{
 "cells": [
  {
   "cell_type": "code",
   "execution_count": 1,
   "metadata": {},
   "outputs": [],
   "source": [
    "import pandas as pd"
   ]
  },
  {
   "cell_type": "code",
   "execution_count": 2,
   "metadata": {},
   "outputs": [],
   "source": [
    "# библиотека, чтобы dataframe соответствовал структуре данных, нужных для загрузки в BigQuery\n",
    "#!pip install pyarrow"
   ]
  },
  {
   "cell_type": "code",
   "execution_count": 3,
   "metadata": {},
   "outputs": [
    {
     "data": {
      "text/html": [
       "<div>\n",
       "<style scoped>\n",
       "    .dataframe tbody tr th:only-of-type {\n",
       "        vertical-align: middle;\n",
       "    }\n",
       "\n",
       "    .dataframe tbody tr th {\n",
       "        vertical-align: top;\n",
       "    }\n",
       "\n",
       "    .dataframe thead th {\n",
       "        text-align: right;\n",
       "    }\n",
       "</style>\n",
       "<table border=\"1\" class=\"dataframe\">\n",
       "  <thead>\n",
       "    <tr style=\"text-align: right;\">\n",
       "      <th></th>\n",
       "      <th>Дата</th>\n",
       "      <th>Регион</th>\n",
       "      <th>Канал</th>\n",
       "      <th>Тип</th>\n",
       "      <th>Цена</th>\n",
       "      <th>Маржинальность</th>\n",
       "      <th>Скидка</th>\n",
       "    </tr>\n",
       "  </thead>\n",
       "  <tbody>\n",
       "    <tr>\n",
       "      <th>0</th>\n",
       "      <td>19.10.2020</td>\n",
       "      <td>Владимирская область</td>\n",
       "      <td>офлайн</td>\n",
       "      <td>Прихожая</td>\n",
       "      <td>15600</td>\n",
       "      <td>0.4926</td>\n",
       "      <td>0.0492</td>\n",
       "    </tr>\n",
       "    <tr>\n",
       "      <th>1</th>\n",
       "      <td>19.10.2020</td>\n",
       "      <td>Брянская область</td>\n",
       "      <td>онлайн</td>\n",
       "      <td>Шкаф-купе</td>\n",
       "      <td>32200</td>\n",
       "      <td>0.4273</td>\n",
       "      <td>0.0469</td>\n",
       "    </tr>\n",
       "    <tr>\n",
       "      <th>2</th>\n",
       "      <td>19.10.2020</td>\n",
       "      <td>Калужская область</td>\n",
       "      <td>офлайн</td>\n",
       "      <td>Стул</td>\n",
       "      <td>2600</td>\n",
       "      <td>0.5179</td>\n",
       "      <td>0.0120</td>\n",
       "    </tr>\n",
       "    <tr>\n",
       "      <th>3</th>\n",
       "      <td>19.10.2020</td>\n",
       "      <td>Владимирская область</td>\n",
       "      <td>онлайн</td>\n",
       "      <td>Шкаф-купе</td>\n",
       "      <td>37800</td>\n",
       "      <td>0.3734</td>\n",
       "      <td>0.0582</td>\n",
       "    </tr>\n",
       "    <tr>\n",
       "      <th>4</th>\n",
       "      <td>19.10.2020</td>\n",
       "      <td>Москва и Московская область</td>\n",
       "      <td>офлайн</td>\n",
       "      <td>Диван</td>\n",
       "      <td>27000</td>\n",
       "      <td>0.5645</td>\n",
       "      <td>0.0341</td>\n",
       "    </tr>\n",
       "  </tbody>\n",
       "</table>\n",
       "</div>"
      ],
      "text/plain": [
       "         Дата                       Регион   Канал        Тип   Цена  \\\n",
       "0  19.10.2020         Владимирская область  офлайн   Прихожая  15600   \n",
       "1  19.10.2020             Брянская область  онлайн  Шкаф-купе  32200   \n",
       "2  19.10.2020            Калужская область  офлайн       Стул   2600   \n",
       "3  19.10.2020         Владимирская область  онлайн  Шкаф-купе  37800   \n",
       "4  19.10.2020  Москва и Московская область  офлайн      Диван  27000   \n",
       "\n",
       "   Маржинальность  Скидка  \n",
       "0          0.4926  0.0492  \n",
       "1          0.4273  0.0469  \n",
       "2          0.5179  0.0120  \n",
       "3          0.3734  0.0582  \n",
       "4          0.5645  0.0341  "
      ]
     },
     "execution_count": 3,
     "metadata": {},
     "output_type": "execute_result"
    }
   ],
   "source": [
    "df = pd.read_csv('zadanie.csv', sep=';' , decimal=',')\n",
    "df.head()"
   ]
  },
  {
   "cell_type": "code",
   "execution_count": 4,
   "metadata": {},
   "outputs": [],
   "source": [
    "df['Дата'] = pd.to_datetime(df['Дата'],format='%d.%m.%Y') # переводим колонку из строки в дату"
   ]
  },
  {
   "cell_type": "code",
   "execution_count": 5,
   "metadata": {},
   "outputs": [
    {
     "data": {
      "text/html": [
       "<div>\n",
       "<style scoped>\n",
       "    .dataframe tbody tr th:only-of-type {\n",
       "        vertical-align: middle;\n",
       "    }\n",
       "\n",
       "    .dataframe tbody tr th {\n",
       "        vertical-align: top;\n",
       "    }\n",
       "\n",
       "    .dataframe thead th {\n",
       "        text-align: right;\n",
       "    }\n",
       "</style>\n",
       "<table border=\"1\" class=\"dataframe\">\n",
       "  <thead>\n",
       "    <tr style=\"text-align: right;\">\n",
       "      <th></th>\n",
       "      <th>Дата</th>\n",
       "      <th>Регион</th>\n",
       "      <th>Канал</th>\n",
       "      <th>Тип</th>\n",
       "      <th>Цена</th>\n",
       "      <th>Маржинальность</th>\n",
       "      <th>Скидка</th>\n",
       "    </tr>\n",
       "  </thead>\n",
       "  <tbody>\n",
       "    <tr>\n",
       "      <th>0</th>\n",
       "      <td>2020-10-19</td>\n",
       "      <td>Владимирская область</td>\n",
       "      <td>офлайн</td>\n",
       "      <td>Прихожая</td>\n",
       "      <td>15600</td>\n",
       "      <td>0.4926</td>\n",
       "      <td>0.0492</td>\n",
       "    </tr>\n",
       "    <tr>\n",
       "      <th>1</th>\n",
       "      <td>2020-10-19</td>\n",
       "      <td>Брянская область</td>\n",
       "      <td>онлайн</td>\n",
       "      <td>Шкаф-купе</td>\n",
       "      <td>32200</td>\n",
       "      <td>0.4273</td>\n",
       "      <td>0.0469</td>\n",
       "    </tr>\n",
       "    <tr>\n",
       "      <th>2</th>\n",
       "      <td>2020-10-19</td>\n",
       "      <td>Калужская область</td>\n",
       "      <td>офлайн</td>\n",
       "      <td>Стул</td>\n",
       "      <td>2600</td>\n",
       "      <td>0.5179</td>\n",
       "      <td>0.0120</td>\n",
       "    </tr>\n",
       "    <tr>\n",
       "      <th>3</th>\n",
       "      <td>2020-10-19</td>\n",
       "      <td>Владимирская область</td>\n",
       "      <td>онлайн</td>\n",
       "      <td>Шкаф-купе</td>\n",
       "      <td>37800</td>\n",
       "      <td>0.3734</td>\n",
       "      <td>0.0582</td>\n",
       "    </tr>\n",
       "    <tr>\n",
       "      <th>4</th>\n",
       "      <td>2020-10-19</td>\n",
       "      <td>Москва и Московская область</td>\n",
       "      <td>офлайн</td>\n",
       "      <td>Диван</td>\n",
       "      <td>27000</td>\n",
       "      <td>0.5645</td>\n",
       "      <td>0.0341</td>\n",
       "    </tr>\n",
       "  </tbody>\n",
       "</table>\n",
       "</div>"
      ],
      "text/plain": [
       "        Дата                       Регион   Канал        Тип   Цена  \\\n",
       "0 2020-10-19         Владимирская область  офлайн   Прихожая  15600   \n",
       "1 2020-10-19             Брянская область  онлайн  Шкаф-купе  32200   \n",
       "2 2020-10-19            Калужская область  офлайн       Стул   2600   \n",
       "3 2020-10-19         Владимирская область  онлайн  Шкаф-купе  37800   \n",
       "4 2020-10-19  Москва и Московская область  офлайн      Диван  27000   \n",
       "\n",
       "   Маржинальность  Скидка  \n",
       "0          0.4926  0.0492  \n",
       "1          0.4273  0.0469  \n",
       "2          0.5179  0.0120  \n",
       "3          0.3734  0.0582  \n",
       "4          0.5645  0.0341  "
      ]
     },
     "execution_count": 5,
     "metadata": {},
     "output_type": "execute_result"
    }
   ],
   "source": [
    "df.head()"
   ]
  },
  {
   "cell_type": "code",
   "execution_count": 6,
   "metadata": {},
   "outputs": [
    {
     "data": {
      "text/plain": [
       "Дата              datetime64[ns]\n",
       "Регион                    object\n",
       "Канал                     object\n",
       "Тип                       object\n",
       "Цена                       int64\n",
       "Маржинальность           float64\n",
       "Скидка                   float64\n",
       "dtype: object"
      ]
     },
     "execution_count": 6,
     "metadata": {},
     "output_type": "execute_result"
    }
   ],
   "source": [
    "df.dtypes # проверяем форматы столбцов"
   ]
  },
  {
   "cell_type": "code",
   "execution_count": 7,
   "metadata": {},
   "outputs": [],
   "source": [
    "# пропишем названия столбцов на латинице, BQ не принимает кириллицу\n",
    "df.columns = ['Date', 'Region', 'Channel', 'Type', 'Price', 'Margine', 'Discount']"
   ]
  },
  {
   "cell_type": "code",
   "execution_count": 8,
   "metadata": {},
   "outputs": [
    {
     "data": {
      "text/html": [
       "<div>\n",
       "<style scoped>\n",
       "    .dataframe tbody tr th:only-of-type {\n",
       "        vertical-align: middle;\n",
       "    }\n",
       "\n",
       "    .dataframe tbody tr th {\n",
       "        vertical-align: top;\n",
       "    }\n",
       "\n",
       "    .dataframe thead th {\n",
       "        text-align: right;\n",
       "    }\n",
       "</style>\n",
       "<table border=\"1\" class=\"dataframe\">\n",
       "  <thead>\n",
       "    <tr style=\"text-align: right;\">\n",
       "      <th></th>\n",
       "      <th>Date</th>\n",
       "      <th>Region</th>\n",
       "      <th>Channel</th>\n",
       "      <th>Type</th>\n",
       "      <th>Price</th>\n",
       "      <th>Margine</th>\n",
       "      <th>Discount</th>\n",
       "    </tr>\n",
       "  </thead>\n",
       "  <tbody>\n",
       "    <tr>\n",
       "      <th>0</th>\n",
       "      <td>2020-10-19</td>\n",
       "      <td>Владимирская область</td>\n",
       "      <td>офлайн</td>\n",
       "      <td>Прихожая</td>\n",
       "      <td>15600</td>\n",
       "      <td>0.4926</td>\n",
       "      <td>0.0492</td>\n",
       "    </tr>\n",
       "    <tr>\n",
       "      <th>1</th>\n",
       "      <td>2020-10-19</td>\n",
       "      <td>Брянская область</td>\n",
       "      <td>онлайн</td>\n",
       "      <td>Шкаф-купе</td>\n",
       "      <td>32200</td>\n",
       "      <td>0.4273</td>\n",
       "      <td>0.0469</td>\n",
       "    </tr>\n",
       "    <tr>\n",
       "      <th>2</th>\n",
       "      <td>2020-10-19</td>\n",
       "      <td>Калужская область</td>\n",
       "      <td>офлайн</td>\n",
       "      <td>Стул</td>\n",
       "      <td>2600</td>\n",
       "      <td>0.5179</td>\n",
       "      <td>0.0120</td>\n",
       "    </tr>\n",
       "    <tr>\n",
       "      <th>3</th>\n",
       "      <td>2020-10-19</td>\n",
       "      <td>Владимирская область</td>\n",
       "      <td>онлайн</td>\n",
       "      <td>Шкаф-купе</td>\n",
       "      <td>37800</td>\n",
       "      <td>0.3734</td>\n",
       "      <td>0.0582</td>\n",
       "    </tr>\n",
       "    <tr>\n",
       "      <th>4</th>\n",
       "      <td>2020-10-19</td>\n",
       "      <td>Москва и Московская область</td>\n",
       "      <td>офлайн</td>\n",
       "      <td>Диван</td>\n",
       "      <td>27000</td>\n",
       "      <td>0.5645</td>\n",
       "      <td>0.0341</td>\n",
       "    </tr>\n",
       "  </tbody>\n",
       "</table>\n",
       "</div>"
      ],
      "text/plain": [
       "        Date                       Region Channel       Type  Price  Margine  \\\n",
       "0 2020-10-19         Владимирская область  офлайн   Прихожая  15600   0.4926   \n",
       "1 2020-10-19             Брянская область  онлайн  Шкаф-купе  32200   0.4273   \n",
       "2 2020-10-19            Калужская область  офлайн       Стул   2600   0.5179   \n",
       "3 2020-10-19         Владимирская область  онлайн  Шкаф-купе  37800   0.3734   \n",
       "4 2020-10-19  Москва и Московская область  офлайн      Диван  27000   0.5645   \n",
       "\n",
       "   Discount  \n",
       "0    0.0492  \n",
       "1    0.0469  \n",
       "2    0.0120  \n",
       "3    0.0582  \n",
       "4    0.0341  "
      ]
     },
     "execution_count": 8,
     "metadata": {},
     "output_type": "execute_result"
    }
   ],
   "source": [
    "df.head()"
   ]
  },
  {
   "cell_type": "code",
   "execution_count": 9,
   "metadata": {},
   "outputs": [],
   "source": [
    "#pip install --upgrade google-cloud-bigquery"
   ]
  },
  {
   "cell_type": "code",
   "execution_count": 10,
   "metadata": {},
   "outputs": [],
   "source": [
    "from google.cloud import bigquery"
   ]
  },
  {
   "cell_type": "code",
   "execution_count": 11,
   "metadata": {},
   "outputs": [],
   "source": [
    "client = bigquery.Client.from_service_account_json('domaska-56ab3d52cbd2.json')"
   ]
  },
  {
   "cell_type": "code",
   "execution_count": 12,
   "metadata": {},
   "outputs": [],
   "source": [
    "dataset_ref = client.dataset('dataset_1') # Определяем набор данных"
   ]
  },
  {
   "cell_type": "code",
   "execution_count": 13,
   "metadata": {},
   "outputs": [],
   "source": [
    "dataset_bq = bigquery.Dataset(dataset_ref)\n",
    "dataset = client.create_dataset(dataset_bq) # Создаем датасет"
   ]
  },
  {
   "cell_type": "code",
   "execution_count": 14,
   "metadata": {},
   "outputs": [],
   "source": [
    "table_ref = dataset_ref.table('table_1') # Определяем таблицу"
   ]
  },
  {
   "cell_type": "code",
   "execution_count": 15,
   "metadata": {},
   "outputs": [],
   "source": [
    "# Передаём датафрейм в таблицу BigQuery\n",
    "result = client.load_table_from_dataframe(df, table_ref).result()"
   ]
  },
  {
   "cell_type": "code",
   "execution_count": null,
   "metadata": {},
   "outputs": [],
   "source": []
  }
 ],
 "metadata": {
  "kernelspec": {
   "display_name": "Python 3",
   "language": "python",
   "name": "python3"
  },
  "language_info": {
   "codemirror_mode": {
    "name": "ipython",
    "version": 3
   },
   "file_extension": ".py",
   "mimetype": "text/x-python",
   "name": "python",
   "nbconvert_exporter": "python",
   "pygments_lexer": "ipython3",
   "version": "3.7.6"
  }
 },
 "nbformat": 4,
 "nbformat_minor": 4
}
